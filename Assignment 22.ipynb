{
 "cells": [
  {
   "cell_type": "code",
   "execution_count": 1,
   "id": "f91b677d",
   "metadata": {},
   "outputs": [
    {
     "name": "stdout",
     "output_type": "stream",
     "text": [
      "iNeuron\n"
     ]
    }
   ],
   "source": [
    "#1. What is the result of the code, and explain?\n",
    "\n",
    "X = 'iNeuron'\n",
    "def func():\n",
    "    print(X)\n",
    "func()"
   ]
  },
  {
   "cell_type": "markdown",
   "id": "256bd1f8",
   "metadata": {},
   "source": [
    "A. Here, we are creating a simple function by the name of func() and calling global variable assigned in X hence returning the result of iNeuron. "
   ]
  },
  {
   "cell_type": "code",
   "execution_count": 2,
   "id": "819b1bd0",
   "metadata": {},
   "outputs": [
    {
     "name": "stdout",
     "output_type": "stream",
     "text": [
      "NI!\n"
     ]
    }
   ],
   "source": [
    "#2. What is the result of the code, and explain?\n",
    "\n",
    "X = 'iNeuron'\n",
    "def func():\n",
    "    X = 'NI!'\n",
    "    print(X)\n",
    "func()"
   ]
  },
  {
   "cell_type": "markdown",
   "id": "e02aeac8",
   "metadata": {},
   "source": [
    "A. There is a local variable present inside the function, so it is returning the same value when calling the function."
   ]
  },
  {
   "cell_type": "code",
   "execution_count": 7,
   "id": "2f927dc5",
   "metadata": {},
   "outputs": [
    {
     "name": "stdout",
     "output_type": "stream",
     "text": [
      "NI\n",
      "iNeuron\n"
     ]
    }
   ],
   "source": [
    "#3. What does this code print, and why?\n",
    "\n",
    "X = 'iNeuron'\n",
    "def func():\n",
    "    X='NI'\n",
    "    print(X)\n",
    "    \n",
    "func()\n",
    "print(X)"
   ]
  },
  {
   "cell_type": "markdown",
   "id": "83afb7e9",
   "metadata": {},
   "source": [
    "A. First, local variable inside the fucntion has been printed.  Upon coming out of the loop, global variable present in X has been printed."
   ]
  },
  {
   "cell_type": "code",
   "execution_count": 10,
   "id": "26c92f17",
   "metadata": {},
   "outputs": [
    {
     "name": "stdout",
     "output_type": "stream",
     "text": [
      "NI\n"
     ]
    }
   ],
   "source": [
    "#4. What output does this code produce? Why?\n",
    "\n",
    "X = 'iNeuron'\n",
    "def func():\n",
    "    global X\n",
    "    X='NI'    \n",
    "func()\n",
    "print(X)"
   ]
  },
  {
   "cell_type": "markdown",
   "id": "084dee76",
   "metadata": {},
   "source": [
    "A. The global keyword allows a variable be accessible in the current scope, because we are using global keyword inside the function function it directly access the variable in X in global scope and changes the value to assigned X value of NI"
   ]
  },
  {
   "cell_type": "code",
   "execution_count": 12,
   "id": "998e16a6",
   "metadata": {},
   "outputs": [
    {
     "name": "stdout",
     "output_type": "stream",
     "text": [
      "NI\n"
     ]
    },
    {
     "data": {
      "text/plain": [
       "'iNeuron'"
      ]
     },
     "execution_count": 12,
     "metadata": {},
     "output_type": "execute_result"
    }
   ],
   "source": [
    "#5. What about this code—what’s the output, and why?\n",
    "\n",
    "X = 'iNeuron'\n",
    "def func():\n",
    "    X='NI'\n",
    "    def nested():\n",
    "        print(X)\n",
    "    nested()\n",
    "\n",
    "func()\n",
    "X"
   ]
  },
  {
   "cell_type": "markdown",
   "id": "bb7347e9",
   "metadata": {},
   "source": [
    "A. Here, local is printed first as \"NI\", and Ineuron is printed outside function as a value of X."
   ]
  },
  {
   "cell_type": "code",
   "execution_count": 15,
   "id": "513a2f34",
   "metadata": {},
   "outputs": [
    {
     "name": "stdout",
     "output_type": "stream",
     "text": [
      "Spam\n"
     ]
    }
   ],
   "source": [
    "#6. How about this code: what is its output in Python 3, and explain?\n",
    "\n",
    "def func():\n",
    "    X ='NI'\n",
    "    def nested():\n",
    "        nonlocal X\n",
    "        X = 'Spam'\n",
    "    nested()\n",
    "    print(X)\n",
    "\n",
    "func()"
   ]
  },
  {
   "cell_type": "markdown",
   "id": "8c6c84f2",
   "metadata": {},
   "source": [
    "A. Nonlocal keyword in python is used to declare a variable as not local. Hence the statement X = \"Spam\" is modified in the global scope. Hence the output statement is Spam."
   ]
  },
  {
   "cell_type": "code",
   "execution_count": null,
   "id": "1a134cdd",
   "metadata": {},
   "outputs": [],
   "source": []
  }
 ],
 "metadata": {
  "kernelspec": {
   "display_name": "Python 3 (ipykernel)",
   "language": "python",
   "name": "python3"
  },
  "language_info": {
   "codemirror_mode": {
    "name": "ipython",
    "version": 3
   },
   "file_extension": ".py",
   "mimetype": "text/x-python",
   "name": "python",
   "nbconvert_exporter": "python",
   "pygments_lexer": "ipython3",
   "version": "3.9.7"
  }
 },
 "nbformat": 4,
 "nbformat_minor": 5
}
